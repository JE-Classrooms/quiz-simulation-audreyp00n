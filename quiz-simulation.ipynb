{
 "cells": [
  {
   "cell_type": "markdown",
   "metadata": {},
   "source": [
    "# Quiz Simulation\n",
    "\n",
    "**Author:**"
   ]
  },
  {
   "cell_type": "markdown",
   "metadata": {},
   "source": [
    "**Exercise 1:** \n",
    "\n",
    "Write a Python program that prints each item and its corresponding type from the following list. Sample List : \n",
    "\n",
    "```datalist = [1452, 11.23, 1+2j, True, 'w3resource', [5, 12], np.array([1,2,3])]```\n",
    "\n",
    "*Hint: don't forget to import numpy*"
   ]
  },
  {
   "cell_type": "code",
   "execution_count": 4,
   "metadata": {},
   "outputs": [],
   "source": [
    "import numpy as np"
   ]
  },
  {
   "cell_type": "code",
   "execution_count": 5,
   "metadata": {},
   "outputs": [],
   "source": [
    "datalist = [1452, 11.23, 1+2j, True, 'w3resource', [5, 12], np.array([1,2,3])]"
   ]
  },
  {
   "cell_type": "code",
   "execution_count": 11,
   "metadata": {},
   "outputs": [
    {
     "name": "stdout",
     "output_type": "stream",
     "text": [
      "<class 'int'>\n",
      "<class 'float'>\n",
      "<class 'complex'>\n",
      "<class 'bool'>\n",
      "<class 'str'>\n",
      "<class 'list'>\n",
      "<class 'numpy.ndarray'>\n"
     ]
    }
   ],
   "source": [
    "datalist_type = np.zeros(3)\n",
    "\n",
    "for item in datalist:\n",
    "    print(type(item))\n"
   ]
  },
  {
   "cell_type": "markdown",
   "metadata": {},
   "source": [
    "**Exercise 2:** \n",
    "\n",
    "Write a Python program to print the Fibonacci series up to the 10th position. \n",
    "\n",
    "*Note:* The Fibonacci Sequence is the series of numbers : 0, 1, 1, 2, 3, 5, 8, 13, 21, ....\n",
    "\n",
    "*Hint:* Every next number is found by adding up the two numbers before it. Start with two variables with the values 0 and 1 and follow the patter by replacing the value of the two variables using a for loop.\n",
    "\n",
    "**Expected Output:** 0 1 1 2 3 5 8 13 21 34"
   ]
  },
  {
   "cell_type": "code",
   "execution_count": 26,
   "metadata": {},
   "outputs": [
    {
     "name": "stdout",
     "output_type": "stream",
     "text": [
      "0\n",
      "1\n",
      "1\n",
      "2\n",
      "3\n",
      "5\n",
      "8\n",
      "13\n",
      "21\n",
      "34\n"
     ]
    }
   ],
   "source": [
    "n0 = 0\n",
    "n1 = 1\n",
    "\n",
    "\n",
    "for i in range(10):\n",
    "    print(n0)\n",
    "    result = n0 + n1\n",
    "    n0 = n1\n",
    "    n1 = result\n",
    "    \n"
   ]
  }
 ],
 "metadata": {
  "kernelspec": {
   "display_name": "conda_amazonei_mxnet_p36",
   "language": "python",
   "name": "conda_amazonei_mxnet_p36"
  },
  "language_info": {
   "codemirror_mode": {
    "name": "ipython",
    "version": 3
   },
   "file_extension": ".py",
   "mimetype": "text/x-python",
   "name": "python",
   "nbconvert_exporter": "python",
   "pygments_lexer": "ipython3",
   "version": "3.6.13"
  },
  "vscode": {
   "interpreter": {
    "hash": "11838f79d2aaadbfa3a2adfaf35bacdebdb4e8d9b63957ddf298964812544a76"
   }
  }
 },
 "nbformat": 4,
 "nbformat_minor": 4
}
